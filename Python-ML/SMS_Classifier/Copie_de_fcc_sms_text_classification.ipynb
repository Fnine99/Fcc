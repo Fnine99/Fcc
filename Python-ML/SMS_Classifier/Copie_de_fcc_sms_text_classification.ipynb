{
  "cells": [
    {
      "cell_type": "markdown",
      "metadata": {
        "id": "Eg62Pmz3o83v"
      },
      "source": [
        "*Note: You are currently reading this using Google Colaboratory which is a cloud-hosted version of Jupyter Notebook. This is a document containing both text cells for documentation and runnable code cells. If you are unfamiliar with Jupyter Notebook, watch this 3-minute introduction before starting this challenge: https://www.youtube.com/watch?v=inN8seMm7UI*\n",
        "\n",
        "---\n",
        "\n",
        "In this challenge, you need to create a machine learning model that will classify SMS messages as either \"ham\" or \"spam\". A \"ham\" message is a normal message sent by a friend. A \"spam\" message is an advertisement or a message sent by a company.\n",
        "\n",
        "You should create a function called `predict_message` that takes a message string as an argument and returns a list. The first element in the list should be a number between zero and one that indicates the likeliness of \"ham\" (0) or \"spam\" (1). The second element in the list should be the word \"ham\" or \"spam\", depending on which is most likely.\n",
        "\n",
        "For this challenge, you will use the [SMS Spam Collection dataset](http://www.dt.fee.unicamp.br/~tiago/smsspamcollection/). The dataset has already been grouped into train data and test data.\n",
        "\n",
        "The first two cells import the libraries and data. The final cell tests your model and function. Add your code in between these cells.\n"
      ]
    },
    {
      "cell_type": "code",
      "execution_count": null,
      "metadata": {
        "id": "8RZOuS9LWQvv"
      },
      "outputs": [],
      "source": [
        "# import libraries\n",
        "try:\n",
        "  # %tensorflow_version only exists in Colab.\n",
        "  !pip install tf-nightly\n",
        "except Exception:\n",
        "  pass\n",
        "import tensorflow as tf\n",
        "import pandas as pd\n",
        "from tensorflow import keras\n",
        "!pip install tensorflow-datasets\n",
        "import tensorflow_datasets as tfds\n",
        "import numpy as np\n",
        "import matplotlib.pyplot as plt\n",
        "from tensorflow.keras.preprocessing.text import Tokenizer\n",
        "from tensorflow.keras.preprocessing.sequence import pad_sequences\n",
        "\n",
        "print(tf.__version__)"
      ]
    },
    {
      "cell_type": "code",
      "execution_count": null,
      "metadata": {
        "id": "lMHwYXHXCar3"
      },
      "outputs": [],
      "source": [
        "# get data files\n",
        "!wget https://cdn.freecodecamp.org/project-data/sms/train-data.tsv\n",
        "!wget https://cdn.freecodecamp.org/project-data/sms/valid-data.tsv\n",
        "\n",
        "train_file_path = \"train-data.tsv\"\n",
        "test_file_path = \"valid-data.tsv\""
      ]
    },
    {
      "cell_type": "code",
      "execution_count": null,
      "metadata": {
        "id": "g_h508FEClxO"
      },
      "outputs": [],
      "source": [
        "train_dataset = pd.read_csv(train_file_path, sep=\"\\t\", names=['Class', 'Message'])\n",
        "test_dataset = pd.read_csv(test_file_path, sep=\"\\t\", names=['Class', 'Message'])\n",
        "# train_dataset.head()"
      ]
    },
    {
      "cell_type": "code",
      "source": [
        "train_dataset['Class'] = pd.factorize(train_dataset['Class'])[0]\n",
        "test_dataset['Class'] = pd.factorize(test_dataset['Class'])[0]\n",
        "# train_dataset.head()\n",
        "# ham ==0, spam ==1"
      ],
      "metadata": {
        "id": "gVeUc1VnvY4L"
      },
      "execution_count": null,
      "outputs": []
    },
    {
      "cell_type": "code",
      "execution_count": null,
      "metadata": {
        "id": "zOMKywn4zReN"
      },
      "outputs": [],
      "source": [
        "train_labels = train_dataset.pop('Class')\n",
        "test_labels = test_dataset.pop('Class')\n",
        "# test_labels.head()"
      ]
    },
    {
      "cell_type": "code",
      "source": [
        "max_len = 50\n",
        "trunc_type = 'post'\n",
        "padd_type = 'post'\n",
        "oov_token = '<OOV>'\n",
        "vocab_size = 7000    # set this up to have access to all the tokenized words\n",
        "epochs = 30"
      ],
      "metadata": {
        "id": "1Nn9CED4vhRN"
      },
      "execution_count": null,
      "outputs": []
    },
    {
      "cell_type": "code",
      "source": [
        "tokenizer = Tokenizer(num_words = vocab_size, char_level=False, oov_token = oov_token)\n",
        "tokenizer.fit_on_texts(train_dataset['Message'])"
      ],
      "metadata": {
        "id": "FncFmhNdvj82"
      },
      "execution_count": null,
      "outputs": []
    },
    {
      "cell_type": "code",
      "source": [
        "word_index = tokenizer.word_index\n",
        "# word_index # visualize all tokens "
      ],
      "metadata": {
        "id": "3OdeB9jbvmr3"
      },
      "execution_count": null,
      "outputs": []
    },
    {
      "cell_type": "code",
      "source": [
        "train_sequence = tokenizer.texts_to_sequences(train_dataset['Message'])\n",
        "train_padd = pad_sequences(train_sequence, maxlen = max_len,\n",
        "                           padding = padd_type, truncating = trunc_type )\n",
        "\n",
        "test_sequence = tokenizer.texts_to_sequences(test_dataset['Message'])\n",
        "test_padd = pad_sequences(test_sequence, maxlen = max_len,\n",
        "                               padding = padd_type, truncating = trunc_type)\n",
        "# index = 1\n",
        "# print(train_sequence[index])               ### visualize passed data\n",
        "# print(train_padd[index])\n",
        "# train_dataset['Message'][index]"
      ],
      "metadata": {
        "id": "o7S1AacTvtEO"
      },
      "execution_count": null,
      "outputs": []
    },
    {
      "cell_type": "code",
      "source": [
        "model = tf.keras.Sequential([\n",
        "    tf.keras.layers.Embedding(vocab_size, 16, input_length=max_len),\n",
        "    tf.keras.layers.GlobalAveragePooling1D(),\n",
        "    tf.keras.layers.Dense(24, activation='relu'),\n",
        "    tf.keras.layers.Dropout(0.2),\n",
        "    tf.keras.layers.Dense(1, activation='sigmoid')\n",
        "])"
      ],
      "metadata": {
        "id": "tYeLx4eGvxXe"
      },
      "execution_count": null,
      "outputs": []
    },
    {
      "cell_type": "code",
      "source": [
        "model.compile(loss= 'binary_crossentropy', optimizer= 'adam', metrics= ['accuracy'])"
      ],
      "metadata": {
        "id": "byBjypAlvyUp"
      },
      "execution_count": null,
      "outputs": []
    },
    {
      "cell_type": "code",
      "source": [
        "history = model.fit(train_padd, train_labels, epochs= epochs,\n",
        "                   validation_data=(test_padd, test_labels), verbose=0)"
      ],
      "metadata": {
        "id": "prq9czrJv3YX"
      },
      "execution_count": null,
      "outputs": []
    },
    {
      "cell_type": "code",
      "source": [
        "# function to predict messages based on model\n",
        "# (should return list containing prediction and label, ex. [0.008318834938108921, 'ham'])\n",
        "def predict_message(pred_text):\n",
        "    new_token = tokenizer.texts_to_sequences([pred_text])\n",
        "    padd = pad_sequences(new_token, maxlen = max_len,\n",
        "                       padding = padd_type, truncating = trunc_type)\n",
        "    prob = model.predict(padd)\n",
        "    prediction = [prob[0][0], 'ham' if prob < .5 else 'spam']\n",
        "    return prediction\n",
        "# the test_prediction will loop through a test_messages and return a string.\n",
        "## Tokenizer can only receive a list (itirable argument).\n",
        "### don't need to loop through anything, test_prediction does it for us."
      ],
      "metadata": {
        "id": "ktN140pPv6E5"
      },
      "execution_count": null,
      "outputs": []
    },
    {
      "cell_type": "code",
      "execution_count": null,
      "metadata": {
        "id": "Dxotov85SjsC"
      },
      "outputs": [],
      "source": [
        "# Run this cell to test your function and model. Do not modify contents.\n",
        "def test_predictions():\n",
        "  test_messages = [\"how are you doing today\",\n",
        "                   \"sale today! to stop texts call 98912460324\",\n",
        "                   \"i dont want to go. can we try it a different day? available sat\",\n",
        "                   \"our new mobile video service is live. just install on your phone to start watching.\",\n",
        "                   \"you have won £1000 cash! call to claim your prize.\",\n",
        "                   \"i'll bring it tomorrow. don't forget the milk.\",\n",
        "                   \"wow, is your arm alright. that happened to me one time too\"\n",
        "                  ]\n",
        "\n",
        "  test_answers = [\"ham\", \"spam\", \"ham\", \"spam\", \"spam\", \"ham\", \"ham\"]\n",
        "  passed = True\n",
        "\n",
        "  for msg, ans in zip(test_messages, test_answers):\n",
        "    prediction = predict_message(msg)\n",
        "    if prediction[1] != ans:\n",
        "      passed = False\n",
        "\n",
        "  if passed:\n",
        "    print(\"You passed the challenge. Great job!\")\n",
        "  else:\n",
        "    print(\"You haven't passed yet. Keep trying.\")\n",
        "\n",
        "test_predictions()\n"
      ]
    }
  ],
  "metadata": {
    "colab": {
      "collapsed_sections": [],
      "private_outputs": true,
      "provenance": []
    },
    "kernelspec": {
      "display_name": "Python 3",
      "name": "python3"
    },
    "language_info": {}
  },
  "nbformat": 4,
  "nbformat_minor": 0
}